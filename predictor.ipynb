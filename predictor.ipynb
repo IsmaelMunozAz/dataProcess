{
 "cells": [
  {
   "cell_type": "code",
   "execution_count": 1,
   "metadata": {},
   "outputs": [],
   "source": [
    "import pandas as pd\n",
    "import numpy as np\n",
    "import seaborn as sns\n",
    "import matplotlib.pyplot as plt\n",
    "import matplotlib.cm as cm\n",
    "from sklearn.preprocessing import StandardScaler\n",
    "from sklearn.decomposition import PCA\n",
    "from sklearn.cluster import KMeans\n",
    "from scipy.cluster.hierarchy import linkage, dendrogram\n",
    "from sklearn.cluster import AgglomerativeClustering\n",
    "from sklearn.metrics import silhouette_samples\n",
    "from sklearn.metrics import silhouette_score"
   ]
  },
  {
   "cell_type": "code",
   "execution_count": 2,
   "metadata": {},
   "outputs": [
    {
     "name": "stdout",
     "output_type": "stream",
     "text": [
      "       quality  bits  intra_parts  skip_parts  inter_16x16_parts  \\\n",
      "0           22  2143            0           0                  1   \n",
      "1           22  1735            0           2                  0   \n",
      "2           22  1971            0           0                  0   \n",
      "3           22  2473            0           0                  0   \n",
      "4           22  1093            0           0                  1   \n",
      "...        ...   ...          ...         ...                ...   \n",
      "15995       37    66           16           1                  1   \n",
      "15996       37   100           32           0                  0   \n",
      "15997       37   141           16           1                  0   \n",
      "15998       37   335           16           0                  2   \n",
      "15999       37   226           32           0                  0   \n",
      "\n",
      "       inter_4x4_parts  inter_other_parts  non_zero_pixels  frame_width  \\\n",
      "0                    3                 21              404          416   \n",
      "1                    3                  8              381          416   \n",
      "2                    0                  8              460          416   \n",
      "3                   18                 20              421          416   \n",
      "4                    3                  8              167          416   \n",
      "...                ...                ...              ...          ...   \n",
      "15995                9                  1                3         2560   \n",
      "15996               18                  2                8         2560   \n",
      "15997                0                  4               15         2560   \n",
      "15998                6                  2               38         2560   \n",
      "15999                0                  4               24         2560   \n",
      "\n",
      "       frame_height  ...    sobel_h    sobel_v    variance  block_movement_h  \\\n",
      "0               240  ...  17.397461  17.397461   87.584335          2.820312   \n",
      "1               240  ...  14.426758  14.233398   48.025330          1.843750   \n",
      "2               240  ...  15.203125  13.953125   56.613480          3.000000   \n",
      "3               240  ...  21.725586  29.165039  283.079285          2.078125   \n",
      "4               240  ...  11.929688  14.353516  175.123245          3.070312   \n",
      "...             ...  ...        ...        ...         ...               ...   \n",
      "15995          1600  ...   1.432617   2.401367    6.652771          4.125000   \n",
      "15996          1600  ...   2.844727   5.889648   15.255798          3.687500   \n",
      "15997          1600  ...   7.579102   9.038086   50.865349          8.375000   \n",
      "15998          1600  ...  21.457031  34.392578  310.964172          9.218750   \n",
      "15999          1600  ...  11.003906  11.896484   39.148544          7.062500   \n",
      "\n",
      "       block_movement_v  var_movement_h  var_movement_v    cost_1    cost_2  \\\n",
      "0              2.539062       10.772400        8.576599       0.0       0.0   \n",
      "1              1.921875        6.163086        6.665771    8816.0    8801.0   \n",
      "2              4.937500        1.625000        3.683594    5104.0    5193.0   \n",
      "3              2.500000       25.806396       34.656250   21531.0   19802.0   \n",
      "4              4.523438       22.252869       14.780701   15073.0   14549.0   \n",
      "...                 ...             ...             ...       ...       ...   \n",
      "15995         13.437500       95.484375      975.058594   18704.0   18283.0   \n",
      "15996          0.000000      203.964844        0.000000   41738.0   37212.0   \n",
      "15997         16.375000      221.734375      816.109375   20642.0   17046.0   \n",
      "15998         29.843750      120.170898     1610.256836  125078.0  146935.0   \n",
      "15999         23.687500      153.683594     1797.089844  171759.0  184325.0   \n",
      "\n",
      "       relevant  \n",
      "0           1.0  \n",
      "1           1.0  \n",
      "2           1.0  \n",
      "3           1.0  \n",
      "4           1.0  \n",
      "...         ...  \n",
      "15995       1.0  \n",
      "15996       1.0  \n",
      "15997       1.0  \n",
      "15998       1.0  \n",
      "15999       1.0  \n",
      "\n",
      "[16000 rows x 27 columns]\n"
     ]
    }
   ],
   "source": [
    "df = pd.read_csv('data.csv')\n",
    "print(df)"
   ]
  },
  {
   "cell_type": "code",
   "execution_count": null,
   "metadata": {},
   "outputs": [],
   "source": []
  }
 ],
 "metadata": {
  "kernelspec": {
   "display_name": "Python 3",
   "language": "python",
   "name": "python3"
  },
  "language_info": {
   "codemirror_mode": {
    "name": "ipython",
    "version": 3
   },
   "file_extension": ".py",
   "mimetype": "text/x-python",
   "name": "python",
   "nbconvert_exporter": "python",
   "pygments_lexer": "ipython3",
   "version": "3.8.5"
  }
 },
 "nbformat": 4,
 "nbformat_minor": 4
}
